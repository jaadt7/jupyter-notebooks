{
 "cells": [
  {
   "cell_type": "markdown",
   "metadata": {},
   "source": [
    "The aim of this notebook is to aid you in visualizing how polarization vectors rotate as a function of time based on the choice of moduli and phase shifts. In the cell below, import the necessary libraries and set the polarization parameters.  *a_plus* and *a_minus* are the positive and negative circular polarization vector moduli, respectively, and *alpha_plus* and *alpha_minus* are the corresponding phase shifts."
   ]
  },
  {
   "cell_type": "code",
   "execution_count": 1,
   "metadata": {},
   "outputs": [],
   "source": [
    "import matplotlib.pyplot as plt\n",
    "import numpy as np\n",
    "import math\n",
    "from matplotlib import animation\n",
    "from IPython.display import HTML\n",
    "\n",
    "a_plus = 2\n",
    "a_minus = 1\n",
    "alpha_plus = np.pi / 3\n",
    "alpha_minus = 0"
   ]
  },
  {
   "cell_type": "markdown",
   "metadata": {},
   "source": [
    "Next, set plot parameters.  The animation will show the linear polarization vectors if *b_linear* is set to True and the circular polarization vectors if *b_circular* is set to True.  w sets the size of the head of the polarization vector. *n_cycles* is the number of cycles shown, and *n_frames_per_cycle* is the number of frames shown per cycle."
   ]
  },
  {
   "cell_type": "code",
   "execution_count": 2,
   "metadata": {},
   "outputs": [],
   "source": [
    "b_linear = False\n",
    "b_circular = True\n",
    "w = 0.05\n",
    "n_cycles = 2\n",
    "n_frames_per_cycle = 100"
   ]
  },
  {
   "cell_type": "markdown",
   "metadata": {},
   "source": [
    "Create a set of arrays to hold the history of polarization vector tip locations."
   ]
  },
  {
   "cell_type": "code",
   "execution_count": 3,
   "metadata": {},
   "outputs": [],
   "source": [
    "xp = []\n",
    "yp = []\n",
    "xm = []\n",
    "ym = []\n",
    "x1 = []\n",
    "y1 = []"
   ]
  },
  {
   "cell_type": "markdown",
   "metadata": {},
   "source": [
    "Define the routine to plot the circular polarization vectors and their histories."
   ]
  },
  {
   "cell_type": "code",
   "execution_count": 4,
   "metadata": {},
   "outputs": [],
   "source": [
    "def circular(ax, i, w, theta, a_plus, a_minus, chi):\n",
    "    dxp = a_plus * np.cos(theta[i] + chi) / np.sqrt(2)\n",
    "    dyp = a_plus * np.sin(theta[i] + chi) / np.sqrt(2)\n",
    "\n",
    "    dxm = a_minus * np.cos(theta[i] - chi) / np.sqrt(2)\n",
    "    dym = -a_minus * np.sin(theta[i] - chi) / np.sqrt(2)\n",
    "    \n",
    "    ax.arrow(x = 0, y = 0, dx = dxp, dy = dyp, head_width = w, head_length = w, fc = 'red', ec = 'red')\n",
    "    ax.arrow(x = 0, y = 0, dx = dxm, dy = dym, head_width = w, head_length = w, fc = 'green', ec = 'green')\n",
    "    \n",
    "    xp.append(dxp)\n",
    "    yp.append(dyp)\n",
    "    xm.append(dxm)\n",
    "    ym.append(dym)\n",
    "\n",
    "    ax.plot(xp, yp, ':', color = 'red')\n",
    "    ax.plot(xm, ym, ':', color = 'green')"
   ]
  },
  {
   "cell_type": "markdown",
   "metadata": {},
   "source": [
    "Define the routine to draw a frame of the animation."
   ]
  },
  {
   "cell_type": "code",
   "execution_count": 5,
   "metadata": {},
   "outputs": [],
   "source": [
    "def updatefig(i, a_plus, a_minus, alpha_plus, alpha_minus, theta, w, b_linear, b_circular):\n",
    "    ax.cla()\n",
    "    \n",
    "    if i == 0:\n",
    "        xp.clear()\n",
    "        yp.clear()\n",
    "        xm.clear()\n",
    "        ym.clear()\n",
    "        x1.clear()\n",
    "        y1.clear()\n",
    "    \n",
    "\n",
    "    major = (a_minus + a_plus) / np.sqrt(2.)\n",
    "    minor = (a_minus - a_plus) / np.sqrt(2.)\n",
    "    chi = 0.5 * (alpha_minus - alpha_plus)\n",
    "        \n",
    "    dx1 = major * np.cos(theta[i])*np.cos(chi) + minor * np.sin(theta[i])*np.sin(chi)\n",
    "    dy1 = -minor * np.sin(theta[i])*np.cos(chi) + major * np.cos(theta[i])*np.sin(chi)\n",
    "    \n",
    "    if b_linear:\n",
    "        ax.arrow(x = 0, y = 0, dx = dx1, dy = 0, head_width = w, head_length = w, fc = 'blue', ec = 'blue')\n",
    "        ax.arrow(x = 0, y = 0, dx = 0, dy = dy1, head_width = w, head_length = w, fc = 'orange', ec = 'orange')\n",
    "\n",
    "    ax.arrow(x = 0, y = 0, dx = dx1, dy = dy1, head_width = w, head_length = w, fc = 'black', ec = 'black')\n",
    "    \n",
    "    if b_circular:\n",
    "        circular(ax, i, w, theta, a_plus, a_minus, chi)\n",
    "    \n",
    "    x1.append(dx1)\n",
    "    y1.append(dy1)\n",
    "\n",
    "    ax.plot(x1, y1, ':', color = 'black')\n",
    "\n",
    "    l = 1.2 * major\n",
    "    ax.set(xlim=(-l, l), ylim=(-l, l))"
   ]
  },
  {
   "cell_type": "markdown",
   "metadata": {},
   "source": [
    "Create the animation.  *Interval* gives the number of milliseconds between frames.  Increase the number to get a slower movie and decrease to get a slower movie.  *Repeat* is a boolean to determine whether the animation should repeat or not."
   ]
  },
  {
   "cell_type": "code",
   "execution_count": 9,
   "metadata": {},
   "outputs": [
    {
     "ename": "AttributeError",
     "evalue": "'AxesSubplot' object has no attribute 'close'",
     "output_type": "error",
     "traceback": [
      "\u001b[1;31m---------------------------------------------------------------------------\u001b[0m",
      "\u001b[1;31mAttributeError\u001b[0m                            Traceback (most recent call last)",
      "\u001b[1;32m<ipython-input-9-d62d03acf383>\u001b[0m in \u001b[0;36m<module>\u001b[1;34m\u001b[0m\n\u001b[0;32m      7\u001b[0m \u001b[1;33m\u001b[0m\u001b[0m\n\u001b[0;32m      8\u001b[0m \u001b[0mHTML\u001b[0m\u001b[1;33m(\u001b[0m\u001b[0manim\u001b[0m\u001b[1;33m.\u001b[0m\u001b[0mto_html5_video\u001b[0m\u001b[1;33m(\u001b[0m\u001b[1;33m)\u001b[0m\u001b[1;33m)\u001b[0m\u001b[1;33m\u001b[0m\u001b[1;33m\u001b[0m\u001b[0m\n\u001b[1;32m----> 9\u001b[1;33m \u001b[0max\u001b[0m\u001b[1;33m.\u001b[0m\u001b[0mclose\u001b[0m\u001b[1;33m(\u001b[0m\u001b[1;33m)\u001b[0m\u001b[1;33m\u001b[0m\u001b[1;33m\u001b[0m\u001b[0m\n\u001b[0m",
      "\u001b[1;31mAttributeError\u001b[0m: 'AxesSubplot' object has no attribute 'close'"
     ]
    },
    {
     "data": {
      "image/png": "[encoded data removed]",
      "text/plain": [
       "<Figure size 432x432 with 1 Axes>"
      ]
     },
     "metadata": {
      "needs_background": "light"
     },
     "output_type": "display_data"
    }
   ],
   "source": [
    "fig, ax = plt.subplots(figsize=(6, 6))\n",
    "theta = np.linspace(0, n_cycles * np.pi, n_cycles * n_frames_per_cycle)\n",
    "\n",
    "args = (a_plus, a_minus, alpha_plus, alpha_minus, theta, w, b_linear, b_circular)\n",
    "anim = animation.FuncAnimation(fig, updatefig, fargs = args, interval = 100, frames=len(theta), blit=False,\n",
    "                               repeat=True)\n",
    "\n",
    "HTML(anim.to_html5_video())\n",
    "ax.close()\n"
   ]
  },
  {
   "cell_type": "code",
   "execution_count": null,
   "metadata": {},
   "outputs": [],
   "source": []
  }
 ],
 "metadata": {
  "kernelspec": {
   "display_name": "Python 3",
   "language": "python",
   "name": "python3"
  },
  "language_info": {
   "codemirror_mode": {
    "name": "ipython",
    "version": 3
   },
   "file_extension": ".py",
   "mimetype": "text/x-python",
   "name": "python",
   "nbconvert_exporter": "python",
   "pygments_lexer": "ipython3",
   "version": "3.8.1"
  }
 },
 "nbformat": 4,
 "nbformat_minor": 4
}
